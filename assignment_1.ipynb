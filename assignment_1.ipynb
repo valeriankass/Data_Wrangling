{
 "cells": [
  {
   "cell_type": "markdown",
   "metadata": {},
   "source": [
    "# Assignment 1"
   ]
  },
  {
   "cell_type": "code",
   "execution_count": 99,
   "metadata": {
    "deletable": false,
    "editable": false,
    "nbgrader": {
     "cell_type": "code",
     "checksum": "2e79fc5d76b21c640be183c076396cc5",
     "grade": false,
     "grade_id": "libraries",
     "locked": true,
     "schema_version": 3,
     "solution": false
    }
   },
   "outputs": [],
   "source": [
    "# read neccessary libraries\n",
    "import numpy as np\n",
    "import pandas as pd\n",
    "pd.options.display.max_rows = 20\n",
    "np.set_printoptions(precision = 4, suppress = True)"
   ]
  },
  {
   "cell_type": "markdown",
   "metadata": {},
   "source": [
    "### Manufacturing processes\n",
    "The file listed below contains data on a manufacturing process. Certain configurations of biological material and manufacturing processes result in a specific yield. Compute the average yield over all records and assign that value to the variable *avg_yield*."
   ]
  },
  {
   "cell_type": "code",
   "execution_count": 100,
   "metadata": {
    "deletable": false,
    "nbgrader": {
     "cell_type": "code",
     "checksum": "c5c8bf06ae19db044377648b09d66f2c",
     "grade": false,
     "grade_id": "yield",
     "locked": false,
     "schema_version": 3,
     "solution": true
    }
   },
   "outputs": [],
   "source": [
    "file = 'manufacturing.csv'\n",
    "\n",
    "# YOUR CODE HERE\n",
    "df_manufacturing = pd.read_csv(file, delimiter=',')\n",
    "avg_yield = df_manufacturing['Yield'].mean()\n",
    "# YOUR CODE ENDS HERE"
   ]
  },
  {
   "cell_type": "code",
   "execution_count": 101,
   "metadata": {
    "deletable": false,
    "editable": false,
    "nbgrader": {
     "cell_type": "code",
     "checksum": "953bd97b8911ad45b19d01a04653330f",
     "grade": true,
     "grade_id": "yield_correct",
     "locked": true,
     "points": 1,
     "schema_version": 3,
     "solution": false
    }
   },
   "outputs": [
    {
     "name": "stdout",
     "output_type": "stream",
     "text": [
      "40.17653409090909\n"
     ]
    }
   ],
   "source": [
    "print(avg_yield)"
   ]
  },
  {
   "cell_type": "markdown",
   "metadata": {},
   "source": [
    "The file contains some missing data. Calculate the number of records that are not complete. Assign that number to the variable *num_missing*."
   ]
  },
  {
   "cell_type": "code",
   "execution_count": 180,
   "metadata": {
    "deletable": false,
    "nbgrader": {
     "cell_type": "code",
     "checksum": "daa708ff3227fe18b3ab26d556946efe",
     "grade": false,
     "grade_id": "missing",
     "locked": false,
     "schema_version": 3,
     "solution": true
    },
    "scrolled": true
   },
   "outputs": [],
   "source": [
    "# YOUR CODE HERE\n",
    "num_missing = sum(1 for (i,row) in df_manufacturing.iterrows() if any(row.isnull()))\n",
    "# YOUR CODE ENDS HERE"
   ]
  },
  {
   "cell_type": "code",
   "execution_count": 181,
   "metadata": {
    "deletable": false,
    "editable": false,
    "nbgrader": {
     "cell_type": "code",
     "checksum": "00c179517d2151fd57011a9c3df8538b",
     "grade": true,
     "grade_id": "missing-correct",
     "locked": true,
     "points": 1,
     "schema_version": 3,
     "solution": false
    },
    "scrolled": false
   },
   "outputs": [
    {
     "name": "stdout",
     "output_type": "stream",
     "text": [
      "24\n"
     ]
    }
   ],
   "source": [
    "print(num_missing)"
   ]
  },
  {
   "cell_type": "markdown",
   "metadata": {},
   "source": [
    "The column **ManufacturingProcess03** contains some missing values. Replace the missing value with the number 1.0 and calculate the mean of this column. Assign the result to the variable *avg_mp3*."
   ]
  },
  {
   "cell_type": "code",
   "execution_count": 42,
   "metadata": {
    "deletable": false,
    "nbgrader": {
     "cell_type": "code",
     "checksum": "7d8c5663f073af444fe2b1838dbf2f79",
     "grade": false,
     "grade_id": "replace",
     "locked": false,
     "schema_version": 3,
     "solution": true
    }
   },
   "outputs": [],
   "source": [
    "# YOUR CODE HERE\n",
    "avg_mp3 = df_manufacturing['ManufacturingProcess03'].fillna(1).mean()\n",
    "# YOUR CODE ENDS HERE"
   ]
  },
  {
   "cell_type": "code",
   "execution_count": 44,
   "metadata": {
    "deletable": false,
    "editable": false,
    "nbgrader": {
     "cell_type": "code",
     "checksum": "2eada7efe411166c21ef6e4537492163",
     "grade": true,
     "grade_id": "replace-correct",
     "locked": true,
     "points": 1,
     "schema_version": 3,
     "solution": false
    }
   },
   "outputs": [
    {
     "name": "stdout",
     "output_type": "stream",
     "text": [
      "1.4935795454545475\n"
     ]
    }
   ],
   "source": [
    "print(avg_mp3)"
   ]
  },
  {
   "cell_type": "markdown",
   "metadata": {},
   "source": [
    "### Population of Amsterdam in 2020\n",
    "The URL listed below contains tables on the demographics of Amsterdam. Use pandas commands to assign the **population estimate of 2020-01-01** in **Amsterdam** to the variable *population*.\n"
   ]
  },
  {
   "cell_type": "code",
   "execution_count": 67,
   "metadata": {
    "deletable": false,
    "nbgrader": {
     "cell_type": "code",
     "checksum": "e4ecbadbb045ace02d0cd33f452c8f1a",
     "grade": false,
     "grade_id": "html-q1",
     "locked": false,
     "schema_version": 3,
     "solution": true
    }
   },
   "outputs": [],
   "source": [
    "url = 'https://www.citypopulation.de/en/netherlands/admin/noord_holland/0363__amsterdam/'\n",
    "\n",
    "# YOUR CODE HERE\n",
    "table_from_url = pd.read_html(url)[0]\n",
    "population = table_from_url['PopulationEstimate2020-01-01'][0]\n",
    "# YOUR CODE ENDS HERE"
   ]
  },
  {
   "cell_type": "code",
   "execution_count": 68,
   "metadata": {
    "deletable": false,
    "editable": false,
    "nbgrader": {
     "cell_type": "code",
     "checksum": "853c891f634bd45f81d868af91cc9dc5",
     "grade": true,
     "grade_id": "html-q1-correct",
     "locked": true,
     "points": 1,
     "schema_version": 3,
     "solution": false
    }
   },
   "outputs": [
    {
     "name": "stdout",
     "output_type": "stream",
     "text": [
      "872757\n"
     ]
    }
   ],
   "source": [
    "print(population)"
   ]
  },
  {
   "cell_type": "markdown",
   "metadata": {},
   "source": [
    "Which fraction of the total population is that? Extract the necessary information from the same table, and assign that value to the variable *fraction*."
   ]
  },
  {
   "cell_type": "code",
   "execution_count": 69,
   "metadata": {
    "deletable": false,
    "nbgrader": {
     "cell_type": "code",
     "checksum": "b4c5719aaabf271dc077dae8d37b98b3",
     "grade": false,
     "grade_id": "html-q2",
     "locked": false,
     "schema_version": 3,
     "solution": true
    }
   },
   "outputs": [],
   "source": [
    "# YOUR CODE HERE\n",
    "population_NL = table_from_url['PopulationEstimate2020-01-01'][1]\n",
    "fraction = population/population_NL\n",
    "# YOUR CODE ENDS HERE"
   ]
  },
  {
   "cell_type": "code",
   "execution_count": 70,
   "metadata": {
    "deletable": false,
    "editable": false,
    "nbgrader": {
     "cell_type": "code",
     "checksum": "a054b6372e4061be9a3678a1654dda46",
     "grade": true,
     "grade_id": "html-q2-correct",
     "locked": true,
     "points": 1,
     "schema_version": 3,
     "solution": false
    }
   },
   "outputs": [
    {
     "name": "stdout",
     "output_type": "stream",
     "text": [
      "0.050136592755399445\n"
     ]
    }
   ],
   "source": [
    "print(fraction)"
   ]
  },
  {
   "cell_type": "markdown",
   "metadata": {},
   "source": [
    "### Food database\n",
    "The file listed below contains a database on food products. Read the file and count the number of unique categories in the variable *group*. Assign that number to the variable *num_categories*."
   ]
  },
  {
   "cell_type": "code",
   "execution_count": 88,
   "metadata": {
    "deletable": false,
    "nbgrader": {
     "cell_type": "code",
     "checksum": "11bc3a966f7a7ff07985fc7da5a00024",
     "grade": false,
     "grade_id": "unique-categories",
     "locked": false,
     "schema_version": 3,
     "solution": true
    }
   },
   "outputs": [],
   "source": [
    "import json\n",
    "file = 'database.json'\n",
    "\n",
    "# YOUR CODE HERE\n",
    "df_food = pd.read_json(file)\n",
    "num_categories = df_food['group'].nunique()\n",
    "# YOUR CODE ENDS HERE"
   ]
  },
  {
   "cell_type": "code",
   "execution_count": 89,
   "metadata": {
    "deletable": false,
    "editable": false,
    "nbgrader": {
     "cell_type": "code",
     "checksum": "492ee59d5ac7952e0ff680f096a98177",
     "grade": true,
     "grade_id": "unique-categories-correct",
     "locked": true,
     "points": 1,
     "schema_version": 3,
     "solution": false
    }
   },
   "outputs": [
    {
     "name": "stdout",
     "output_type": "stream",
     "text": [
      "25\n"
     ]
    }
   ],
   "source": [
    "print(num_categories)"
   ]
  },
  {
   "cell_type": "markdown",
   "metadata": {},
   "source": [
    "Count the number of products that are mentioned in the **Baby Foods** group. Assign that number to the variable *baby_total*."
   ]
  },
  {
   "cell_type": "code",
   "execution_count": 151,
   "metadata": {
    "deletable": false,
    "nbgrader": {
     "cell_type": "code",
     "checksum": "a847f40b0d5a1d80aede5fa4110944a4",
     "grade": false,
     "grade_id": "food-database",
     "locked": false,
     "schema_version": 3,
     "solution": true
    },
    "scrolled": true
   },
   "outputs": [],
   "source": [
    "# YOUR CODE HERE\n",
    "baby_total = df_food.loc[df_food['group'] == \"Baby Foods\", 'description'].count()\n",
    "# YOUR CODE ENDS HERE"
   ]
  },
  {
   "cell_type": "code",
   "execution_count": 152,
   "metadata": {
    "deletable": false,
    "editable": false,
    "nbgrader": {
     "cell_type": "code",
     "checksum": "8658021b75813a3e0c5f7ca258dada5a",
     "grade": true,
     "grade_id": "food-database-correct",
     "locked": true,
     "points": 2,
     "schema_version": 3,
     "solution": false
    }
   },
   "outputs": [
    {
     "name": "stdout",
     "output_type": "stream",
     "text": [
      "209\n"
     ]
    }
   ],
   "source": [
    "print(baby_total)"
   ]
  },
  {
   "cell_type": "markdown",
   "metadata": {},
   "source": [
    "### Bus database\n",
    "The following XML file contains records on the LI Bus service. Read in the XML and count the number of records present in the file. Assign that number to the variable *num_records*."
   ]
  },
  {
   "cell_type": "code",
   "execution_count": 172,
   "metadata": {
    "deletable": false,
    "nbgrader": {
     "cell_type": "code",
     "checksum": "beff521cdd222fd8069c65f22f8b7abc",
     "grade": false,
     "grade_id": "bus",
     "locked": false,
     "schema_version": 3,
     "solution": true
    }
   },
   "outputs": [],
   "source": [
    "from lxml import objectify\n",
    "file = 'libus.xml'\n",
    "\n",
    "# YOUR CODE HERE\n",
    "import xml.etree.cElementTree as et\n",
    "tree = et.parse(file)\n",
    "root = tree.getroot()\n",
    "columns = [\"LI Bus Mean Distance Between Failures\", \"LI Bus Average number of miles a bus travels between mechanical failures\", \"Service Indicators\"]\n",
    "\n",
    "df_libus = pd.DataFrame(columns = columns)\n",
    "\n",
    "for node in root: \n",
    "    mean_distance_between_failures = node.attrib.get(\"LI Bus Mean Distance Between Failures\")\n",
    "    mean_miles_between_failures = node.find(\"LI Bus Average number of miles a bus travels between mechanical failures\") if node is not None else None\n",
    "    service_indicators = node.find(\"Service Indicators\") if node is not None else None\n",
    "    df_libus = df_libus.append(pd.Series([mean_distance_between_failures, mean_miles_between_failures, service_indicators], index = columns), ignore_index = True)\n",
    "    \n",
    "num_records = len(df_libus.index)\n",
    "# YOUR CODE ENDS HERE"
   ]
  },
  {
   "cell_type": "code",
   "execution_count": 173,
   "metadata": {
    "deletable": false,
    "editable": false,
    "nbgrader": {
     "cell_type": "code",
     "checksum": "0eb270e75e5622dd52d47b6a818f9138",
     "grade": true,
     "grade_id": "bus-correct",
     "locked": true,
     "points": 2,
     "schema_version": 3,
     "solution": false
    }
   },
   "outputs": [
    {
     "name": "stdout",
     "output_type": "stream",
     "text": [
      "480\n"
     ]
    }
   ],
   "source": [
    "print(num_records)"
   ]
  }
 ],
 "metadata": {
  "kernelspec": {
   "display_name": "Python 3",
   "language": "python",
   "name": "python3"
  },
  "language_info": {
   "codemirror_mode": {
    "name": "ipython",
    "version": 3
   },
   "file_extension": ".py",
   "mimetype": "text/x-python",
   "name": "python",
   "nbconvert_exporter": "python",
   "pygments_lexer": "ipython3",
   "version": "3.8.5"
  }
 },
 "nbformat": 4,
 "nbformat_minor": 2
}
